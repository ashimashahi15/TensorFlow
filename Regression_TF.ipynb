{
  "nbformat": 4,
  "nbformat_minor": 0,
  "metadata": {
    "colab": {
      "provenance": []
    },
    "kernelspec": {
      "name": "python3",
      "display_name": "Python 3"
    },
    "language_info": {
      "name": "python"
    }
  },
  "cells": [
    {
      "cell_type": "markdown",
      "source": [
        "# INTRODUCTION"
      ],
      "metadata": {
        "id": "1inEMVq2wRUz"
      }
    },
    {
      "cell_type": "markdown",
      "source": [
        "Implementation\n",
        "1. Is mostly an exercise in \"API hunting\"\n",
        "2. The actual math is not written in code\n",
        "3. The job is to find the function that implements the math in question\n",
        "4. The equation y = mx  + b is implemented in Keras layer called Dense\n",
        "5. Tensorflow code is always written in keras layers"
      ],
      "metadata": {
        "id": "J9TjQ-IqmRKO"
      }
    },
    {
      "cell_type": "markdown",
      "source": [
        "Steps to be followed:\n",
        "1. Load the data (X and Y)- may involve transforming the data\n",
        "2. Instantiate the model\n",
        "3. Train(\"fir\") the model\n",
        "4. Evaluate the model\n"
      ],
      "metadata": {
        "id": "xeBd-OiqlXde"
      }
    },
    {
      "cell_type": "markdown",
      "source": [
        "Step 1 \n",
        "\n",
        "model = tf.keras.models.Sequential([\n",
        "  tf.keras.layers.Input(shape=(D,)),\n",
        "  tf.keras.layers.Dense(1, activation='sigmoid')\n",
        "\n",
        "  ])"
      ],
      "metadata": {
        "id": "-mnnBJ7jn8J2"
      }
    },
    {
      "cell_type": "code",
      "source": [
        "import tensorflow as tf\n",
        "import matplotlib.pyplot as plt\n",
        "import pandas as pd\n",
        "import numpy as np\n"
      ],
      "metadata": {
        "id": "s5M2-GMOr8c9"
      },
      "execution_count": 1,
      "outputs": []
    },
    {
      "cell_type": "markdown",
      "source": [
        "# LOADING & UNDERSTANDING THE DATASET "
      ],
      "metadata": {
        "id": "Bc8MYLtbwDwG"
      }
    },
    {
      "cell_type": "code",
      "source": [
        "!wget https://raw.githubusercontent.com/lazyprogrammer/machine_learning_examples/master/tf2.0/moore.csv"
      ],
      "metadata": {
        "colab": {
          "base_uri": "https://localhost:8080/"
        },
        "id": "Y4FDuSSOhdd-",
        "outputId": "6bb5c5ae-e8a6-4b95-a8fb-1cd5149cdd2e"
      },
      "execution_count": 8,
      "outputs": [
        {
          "output_type": "stream",
          "name": "stdout",
          "text": [
            "--2023-02-22 09:50:20--  https://raw.githubusercontent.com/lazyprogrammer/machine_learning_examples/master/tf2.0/moore.csv\n",
            "Resolving raw.githubusercontent.com (raw.githubusercontent.com)... 185.199.108.133, 185.199.109.133, 185.199.110.133, ...\n",
            "Connecting to raw.githubusercontent.com (raw.githubusercontent.com)|185.199.108.133|:443... connected.\n",
            "HTTP request sent, awaiting response... 200 OK\n",
            "Length: 2302 (2.2K) [text/plain]\n",
            "Saving to: ‘moore.csv.3’\n",
            "\n",
            "\rmoore.csv.3           0%[                    ]       0  --.-KB/s               \rmoore.csv.3         100%[===================>]   2.25K  --.-KB/s    in 0s      \n",
            "\n",
            "2023-02-22 09:50:20 (29.9 MB/s) - ‘moore.csv.3’ saved [2302/2302]\n",
            "\n"
          ]
        }
      ]
    },
    {
      "cell_type": "code",
      "source": [
        "data = pd.read_csv('moore.csv', header=None).to_numpy()"
      ],
      "metadata": {
        "id": "Jm9-hquwLMwJ"
      },
      "execution_count": 9,
      "outputs": []
    },
    {
      "cell_type": "code",
      "source": [
        "#data.keys()"
      ],
      "metadata": {
        "id": "yynszOd-LTxJ"
      },
      "execution_count": null,
      "outputs": []
    },
    {
      "cell_type": "code",
      "source": [
        "data"
      ],
      "metadata": {
        "colab": {
          "base_uri": "https://localhost:8080/"
        },
        "id": "BH68IfkXLfjG",
        "outputId": "ce1b347a-42c6-47ed-edaa-3f0ec73c702f"
      },
      "execution_count": 11,
      "outputs": [
        {
          "output_type": "execute_result",
          "data": {
            "text/plain": [
              "array([[       1971,        2300],\n",
              "       [       1972,        3500],\n",
              "       [       1973,        2500],\n",
              "       [       1973,        2500],\n",
              "       [       1974,        4100],\n",
              "       [       1974,        4500],\n",
              "       [       1974,        8000],\n",
              "       [       1975,        3510],\n",
              "       [       1976,        5000],\n",
              "       [       1976,        8500],\n",
              "       [       1976,        6500],\n",
              "       [       1978,        9000],\n",
              "       [       1978,       29000],\n",
              "       [       1979,       17500],\n",
              "       [       1979,       29000],\n",
              "       [       1979,       68000],\n",
              "       [       1981,       11500],\n",
              "       [       1982,       55000],\n",
              "       [       1982,      134000],\n",
              "       [       1983,       22000],\n",
              "       [       1984,       63000],\n",
              "       [       1984,      190000],\n",
              "       [       1985,      275000],\n",
              "       [       1985,       25000],\n",
              "       [       1985,       16000],\n",
              "       [       1986,      110000],\n",
              "       [       1986,      375000],\n",
              "       [       1986,       30000],\n",
              "       [       1987,      385000],\n",
              "       [       1987,      730000],\n",
              "       [       1987,      273000],\n",
              "       [       1987,      553000],\n",
              "       [       1988,      180000],\n",
              "       [       1988,      250000],\n",
              "       [       1989,      600000],\n",
              "       [       1989,     1000000],\n",
              "       [       1989,     1180235],\n",
              "       [       1989,      310000],\n",
              "       [       1990,     1200000],\n",
              "       [       1991,     1350000],\n",
              "       [       1991,       35000],\n",
              "       [       1992,      600000],\n",
              "       [       1992,      900000],\n",
              "       [       1993,     2800000],\n",
              "       [       1993,     3100000],\n",
              "       [       1994,      578977],\n",
              "       [       1994,     2500000],\n",
              "       [       1995,     2500000],\n",
              "       [       1999,      111000],\n",
              "       [       1995,     5500000],\n",
              "       [       1996,     4300000],\n",
              "       [       1997,    10000000],\n",
              "       [       1997,     7500000],\n",
              "       [       1997,     8800000],\n",
              "       [       1998,     7500000],\n",
              "       [       1999,     9500000],\n",
              "       [       1999,    13500000],\n",
              "       [       2000,    21000000],\n",
              "       [       2000,    21000000],\n",
              "       [       1999,    27400000],\n",
              "       [       1999,    21300000],\n",
              "       [       1999,    22000000],\n",
              "       [       2000,    42000000],\n",
              "       [       2001,   191000000],\n",
              "       [       2001,    45000000],\n",
              "       [       2002,    55000000],\n",
              "       [       2004,   112000000],\n",
              "       [       2004,   400000000],\n",
              "       [       2005,   169000000],\n",
              "       [       2006,   184000000],\n",
              "       [       2005,   228000000],\n",
              "       [       2006,   362000000],\n",
              "       [       2007,   540000000],\n",
              "       [       2008,    47000000],\n",
              "       [       2003,    54300000],\n",
              "       [       2003,   105900000],\n",
              "       [       2002,   220000000],\n",
              "       [       2005,   165000000],\n",
              "       [       2005,   250000000],\n",
              "       [       2006,   291000000],\n",
              "       [       2007,   169000000],\n",
              "       [       2003,   410000000],\n",
              "       [       2008,   600000000],\n",
              "       [       2009,   760000000],\n",
              "       [       2011,  1870000000],\n",
              "       [       2012,   432000000],\n",
              "       [       2007,   463000000],\n",
              "       [       2007,    26000000],\n",
              "       [       2008,   230000000],\n",
              "       [       2004,   592000000],\n",
              "       [       2007,   411000000],\n",
              "       [       2008,   731000000],\n",
              "       [       2008,   758000000],\n",
              "       [       2007,   789000000],\n",
              "       [       2009,   904000000],\n",
              "       [       2010,  1000000000],\n",
              "       [       2012,  2990000000],\n",
              "       [       2013,  1000000000],\n",
              "       [       2011,  1160000000],\n",
              "       [       2010,  1170000000],\n",
              "       [       2010,  1200000000],\n",
              "       [       2012,  1200000000],\n",
              "       [       2012,  1303000000],\n",
              "       [       2010,  1400000000],\n",
              "       [       2012,  1400000000],\n",
              "       [       2014,  1400000000],\n",
              "       [       2006,  1700000000],\n",
              "       [       2015,  1750000000],\n",
              "       [       2013,  1860000000],\n",
              "       [       2015,  1900000000],\n",
              "       [       2008,  1900000000],\n",
              "       [       2010,  2000000000],\n",
              "       [       2014,  2000000000],\n",
              "       [       2015,  2000000000],\n",
              "       [       2015,  3000000000],\n",
              "       [       2012,  2100000000],\n",
              "       [       2011,  2270000000],\n",
              "       [       2010,  2300000000],\n",
              "       [       2014,  2600000000],\n",
              "       [       2011,  2600000000],\n",
              "       [       2012,  2750000000],\n",
              "       [       2014,  3000000000],\n",
              "       [       2016,  3000000000],\n",
              "       [       2017,  5300000000],\n",
              "       [       2017,  5300000000],\n",
              "       [       2018,  8500000000],\n",
              "       [       2012,  3100000000],\n",
              "       [       2016,  3200000000],\n",
              "       [       2016,  3300000000],\n",
              "       [       2015,  3990000000],\n",
              "       [       2013,  4200000000],\n",
              "       [       2017,  4300000000],\n",
              "       [       2014,  4310000000],\n",
              "       [       2017,  4800000000],\n",
              "       [       2017,  4800000000],\n",
              "       [       2017,  4800000000],\n",
              "       [       2012,  5000000000],\n",
              "       [       2013,  5000000000],\n",
              "       [       2014,  5560000000],\n",
              "       [       2017,  6100000000],\n",
              "       [       2018,  6900000000],\n",
              "       [       2016,  4000000000],\n",
              "       [       2018,  6900000000],\n",
              "       [       2017,  5500000000],\n",
              "       [       2018,  5500000000],\n",
              "       [       2017,  7000000000],\n",
              "       [       2015,  7100000000],\n",
              "       [       2017,  8000000000],\n",
              "       [       2016,  7200000000],\n",
              "       [       2017,  8000000000],\n",
              "       [       2016,  8000000000],\n",
              "       [       2017,  9700000000],\n",
              "       [       2017,   250000000],\n",
              "       [       2015, 10000000000],\n",
              "       [       2017,  5450000000],\n",
              "       [       2018, 10000000000],\n",
              "       [       2017,  4300000000],\n",
              "       [       2017, 18000000000],\n",
              "       [       2017, 19200000000],\n",
              "       [       2018,  8876000000],\n",
              "       [       2018, 23600000000],\n",
              "       [       2018,  9000000000]])"
            ]
          },
          "metadata": {},
          "execution_count": 11
        }
      ]
    },
    {
      "cell_type": "code",
      "source": [
        "type(data)"
      ],
      "metadata": {
        "colab": {
          "base_uri": "https://localhost:8080/"
        },
        "id": "V5IviqqWLewp",
        "outputId": "70e97919-4a7b-4428-bac8-34b1d4abe548"
      },
      "execution_count": 10,
      "outputs": [
        {
          "output_type": "execute_result",
          "data": {
            "text/plain": [
              "numpy.ndarray"
            ]
          },
          "metadata": {},
          "execution_count": 10
        }
      ]
    },
    {
      "cell_type": "code",
      "source": [
        "X = data[:,0].reshape(-1, 1)\n",
        "Y = data [:,1]\n",
        "X,Y"
      ],
      "metadata": {
        "id": "Ics_5hYvOCvh",
        "colab": {
          "base_uri": "https://localhost:8080/"
        },
        "outputId": "de012c20-2b5d-4b35-e875-6ca9d889976f"
      },
      "execution_count": 12,
      "outputs": [
        {
          "output_type": "execute_result",
          "data": {
            "text/plain": [
              "(array([[1971],\n",
              "        [1972],\n",
              "        [1973],\n",
              "        [1973],\n",
              "        [1974],\n",
              "        [1974],\n",
              "        [1974],\n",
              "        [1975],\n",
              "        [1976],\n",
              "        [1976],\n",
              "        [1976],\n",
              "        [1978],\n",
              "        [1978],\n",
              "        [1979],\n",
              "        [1979],\n",
              "        [1979],\n",
              "        [1981],\n",
              "        [1982],\n",
              "        [1982],\n",
              "        [1983],\n",
              "        [1984],\n",
              "        [1984],\n",
              "        [1985],\n",
              "        [1985],\n",
              "        [1985],\n",
              "        [1986],\n",
              "        [1986],\n",
              "        [1986],\n",
              "        [1987],\n",
              "        [1987],\n",
              "        [1987],\n",
              "        [1987],\n",
              "        [1988],\n",
              "        [1988],\n",
              "        [1989],\n",
              "        [1989],\n",
              "        [1989],\n",
              "        [1989],\n",
              "        [1990],\n",
              "        [1991],\n",
              "        [1991],\n",
              "        [1992],\n",
              "        [1992],\n",
              "        [1993],\n",
              "        [1993],\n",
              "        [1994],\n",
              "        [1994],\n",
              "        [1995],\n",
              "        [1999],\n",
              "        [1995],\n",
              "        [1996],\n",
              "        [1997],\n",
              "        [1997],\n",
              "        [1997],\n",
              "        [1998],\n",
              "        [1999],\n",
              "        [1999],\n",
              "        [2000],\n",
              "        [2000],\n",
              "        [1999],\n",
              "        [1999],\n",
              "        [1999],\n",
              "        [2000],\n",
              "        [2001],\n",
              "        [2001],\n",
              "        [2002],\n",
              "        [2004],\n",
              "        [2004],\n",
              "        [2005],\n",
              "        [2006],\n",
              "        [2005],\n",
              "        [2006],\n",
              "        [2007],\n",
              "        [2008],\n",
              "        [2003],\n",
              "        [2003],\n",
              "        [2002],\n",
              "        [2005],\n",
              "        [2005],\n",
              "        [2006],\n",
              "        [2007],\n",
              "        [2003],\n",
              "        [2008],\n",
              "        [2009],\n",
              "        [2011],\n",
              "        [2012],\n",
              "        [2007],\n",
              "        [2007],\n",
              "        [2008],\n",
              "        [2004],\n",
              "        [2007],\n",
              "        [2008],\n",
              "        [2008],\n",
              "        [2007],\n",
              "        [2009],\n",
              "        [2010],\n",
              "        [2012],\n",
              "        [2013],\n",
              "        [2011],\n",
              "        [2010],\n",
              "        [2010],\n",
              "        [2012],\n",
              "        [2012],\n",
              "        [2010],\n",
              "        [2012],\n",
              "        [2014],\n",
              "        [2006],\n",
              "        [2015],\n",
              "        [2013],\n",
              "        [2015],\n",
              "        [2008],\n",
              "        [2010],\n",
              "        [2014],\n",
              "        [2015],\n",
              "        [2015],\n",
              "        [2012],\n",
              "        [2011],\n",
              "        [2010],\n",
              "        [2014],\n",
              "        [2011],\n",
              "        [2012],\n",
              "        [2014],\n",
              "        [2016],\n",
              "        [2017],\n",
              "        [2017],\n",
              "        [2018],\n",
              "        [2012],\n",
              "        [2016],\n",
              "        [2016],\n",
              "        [2015],\n",
              "        [2013],\n",
              "        [2017],\n",
              "        [2014],\n",
              "        [2017],\n",
              "        [2017],\n",
              "        [2017],\n",
              "        [2012],\n",
              "        [2013],\n",
              "        [2014],\n",
              "        [2017],\n",
              "        [2018],\n",
              "        [2016],\n",
              "        [2018],\n",
              "        [2017],\n",
              "        [2018],\n",
              "        [2017],\n",
              "        [2015],\n",
              "        [2017],\n",
              "        [2016],\n",
              "        [2017],\n",
              "        [2016],\n",
              "        [2017],\n",
              "        [2017],\n",
              "        [2015],\n",
              "        [2017],\n",
              "        [2018],\n",
              "        [2017],\n",
              "        [2017],\n",
              "        [2017],\n",
              "        [2018],\n",
              "        [2018],\n",
              "        [2018]]),\n",
              " array([       2300,        3500,        2500,        2500,        4100,\n",
              "               4500,        8000,        3510,        5000,        8500,\n",
              "               6500,        9000,       29000,       17500,       29000,\n",
              "              68000,       11500,       55000,      134000,       22000,\n",
              "              63000,      190000,      275000,       25000,       16000,\n",
              "             110000,      375000,       30000,      385000,      730000,\n",
              "             273000,      553000,      180000,      250000,      600000,\n",
              "            1000000,     1180235,      310000,     1200000,     1350000,\n",
              "              35000,      600000,      900000,     2800000,     3100000,\n",
              "             578977,     2500000,     2500000,      111000,     5500000,\n",
              "            4300000,    10000000,     7500000,     8800000,     7500000,\n",
              "            9500000,    13500000,    21000000,    21000000,    27400000,\n",
              "           21300000,    22000000,    42000000,   191000000,    45000000,\n",
              "           55000000,   112000000,   400000000,   169000000,   184000000,\n",
              "          228000000,   362000000,   540000000,    47000000,    54300000,\n",
              "          105900000,   220000000,   165000000,   250000000,   291000000,\n",
              "          169000000,   410000000,   600000000,   760000000,  1870000000,\n",
              "          432000000,   463000000,    26000000,   230000000,   592000000,\n",
              "          411000000,   731000000,   758000000,   789000000,   904000000,\n",
              "         1000000000,  2990000000,  1000000000,  1160000000,  1170000000,\n",
              "         1200000000,  1200000000,  1303000000,  1400000000,  1400000000,\n",
              "         1400000000,  1700000000,  1750000000,  1860000000,  1900000000,\n",
              "         1900000000,  2000000000,  2000000000,  2000000000,  3000000000,\n",
              "         2100000000,  2270000000,  2300000000,  2600000000,  2600000000,\n",
              "         2750000000,  3000000000,  3000000000,  5300000000,  5300000000,\n",
              "         8500000000,  3100000000,  3200000000,  3300000000,  3990000000,\n",
              "         4200000000,  4300000000,  4310000000,  4800000000,  4800000000,\n",
              "         4800000000,  5000000000,  5000000000,  5560000000,  6100000000,\n",
              "         6900000000,  4000000000,  6900000000,  5500000000,  5500000000,\n",
              "         7000000000,  7100000000,  8000000000,  7200000000,  8000000000,\n",
              "         8000000000,  9700000000,   250000000, 10000000000,  5450000000,\n",
              "        10000000000,  4300000000, 18000000000, 19200000000,  8876000000,\n",
              "        23600000000,  9000000000]))"
            ]
          },
          "metadata": {},
          "execution_count": 12
        }
      ]
    },
    {
      "cell_type": "code",
      "source": [
        "plt.scatter(X, Y)"
      ],
      "metadata": {
        "colab": {
          "base_uri": "https://localhost:8080/",
          "height": 294
        },
        "id": "sK8pyhUkWGdx",
        "outputId": "a7f1a16c-7799-42ec-f470-754210186469"
      },
      "execution_count": 13,
      "outputs": [
        {
          "output_type": "execute_result",
          "data": {
            "text/plain": [
              "<matplotlib.collections.PathCollection at 0x7f88f30a7430>"
            ]
          },
          "metadata": {},
          "execution_count": 13
        },
        {
          "output_type": "display_data",
          "data": {
            "text/plain": [
              "<Figure size 432x288 with 1 Axes>"
            ],
            "image/png": "[encoded data removed]"
          },
          "metadata": {
            "needs_background": "light"
          }
        }
      ]
    },
    {
      "cell_type": "markdown",
      "source": [
        "Since we want linear model we would take log."
      ],
      "metadata": {
        "id": "_jTfZymhWXR5"
      }
    },
    {
      "cell_type": "code",
      "source": [
        "Y = np.log(Y)\n",
        "plt.scatter(X,Y)"
      ],
      "metadata": {
        "colab": {
          "base_uri": "https://localhost:8080/",
          "height": 283
        },
        "id": "KUaSvI2AWUh5",
        "outputId": "9ecd5d3e-9b20-440d-ec19-1ce753c63993"
      },
      "execution_count": 14,
      "outputs": [
        {
          "output_type": "execute_result",
          "data": {
            "text/plain": [
              "<matplotlib.collections.PathCollection at 0x7f88f2bf5700>"
            ]
          },
          "metadata": {},
          "execution_count": 14
        },
        {
          "output_type": "display_data",
          "data": {
            "text/plain": [
              "<Figure size 432x288 with 1 Axes>"
            ],
            "image/png": "[encoded data removed]"
          },
          "metadata": {
            "needs_background": "light"
          }
        }
      ]
    },
    {
      "cell_type": "code",
      "source": [
        "X = X - X.mean()"
      ],
      "metadata": {
        "id": "_XCoX8ZwWMB5"
      },
      "execution_count": 15,
      "outputs": []
    },
    {
      "cell_type": "markdown",
      "source": [
        "# MODEL BUILDING"
      ],
      "metadata": {
        "id": "9Js_FYHomvR_"
      }
    },
    {
      "cell_type": "code",
      "source": [
        "model = tf.keras.models.Sequential([\n",
        "        tf.keras.layers.Input(shape=(1,)),\n",
        "        tf.keras.layers.Dense(1),\n",
        "])"
      ],
      "metadata": {
        "id": "DmHVxSuYWZGU"
      },
      "execution_count": 16,
      "outputs": []
    },
    {
      "cell_type": "markdown",
      "source": [
        "In classification we use scaling, therfore it does not require custom optimisation. But in this case we havenot applied scaling so it would make customization harder to achieve as for expected value.  Therfeore we need to apply customized optimisation. As shown in brackets with SGD learning rate and momentum"
      ],
      "metadata": {
        "id": "3-47z4eMamHh"
      }
    },
    {
      "cell_type": "code",
      "source": [
        "model.compile(optimizer = tf.keras.optimizers.SGD(.001,0.9),\n",
        "              loss = 'mse')"
      ],
      "metadata": {
        "id": "sH-yJj-6Y2rK"
      },
      "execution_count": 17,
      "outputs": []
    },
    {
      "cell_type": "code",
      "source": [
        "def schedule(epoch, lr):\n",
        "  if epoch >= 50:\n",
        "    return 0.0001\n",
        "  return 0.001\n",
        "\n",
        "scheduler = tf.keras.callbacks.LearningRateScheduler(schedule)"
      ],
      "metadata": {
        "id": "rk20-eDacDXf"
      },
      "execution_count": 19,
      "outputs": []
    },
    {
      "cell_type": "code",
      "source": [
        " r = model.fit(X, Y, epochs=200, callbacks=[scheduler])"
      ],
      "metadata": {
        "colab": {
          "base_uri": "https://localhost:8080/"
        },
        "id": "EQO5h9MfjUst",
        "outputId": "0da8d0a6-7569-4da4-964a-6e52cd79936b"
      },
      "execution_count": 20,
      "outputs": [
        {
          "output_type": "stream",
          "name": "stdout",
          "text": [
            "Epoch 1/200\n",
            "6/6 [==============================] - 1s 5ms/step - loss: 457.9091 - lr: 0.0010\n",
            "Epoch 2/200\n",
            "6/6 [==============================] - 0s 2ms/step - loss: 303.7585 - lr: 0.0010\n",
            "Epoch 3/200\n",
            "6/6 [==============================] - 0s 3ms/step - loss: 264.1576 - lr: 0.0010\n",
            "Epoch 4/200\n",
            "6/6 [==============================] - 0s 2ms/step - loss: 210.8253 - lr: 0.0010\n",
            "Epoch 5/200\n",
            "6/6 [==============================] - 0s 3ms/step - loss: 157.9713 - lr: 0.0010\n",
            "Epoch 6/200\n",
            "6/6 [==============================] - 0s 3ms/step - loss: 120.4083 - lr: 0.0010\n",
            "Epoch 7/200\n",
            "6/6 [==============================] - 0s 3ms/step - loss: 86.7763 - lr: 0.0010\n",
            "Epoch 8/200\n",
            "6/6 [==============================] - 0s 2ms/step - loss: 63.0196 - lr: 0.0010\n",
            "Epoch 9/200\n",
            "6/6 [==============================] - 0s 3ms/step - loss: 54.5342 - lr: 0.0010\n",
            "Epoch 10/200\n",
            "6/6 [==============================] - 0s 2ms/step - loss: 44.1847 - lr: 0.0010\n",
            "Epoch 11/200\n",
            "6/6 [==============================] - 0s 3ms/step - loss: 40.6320 - lr: 0.0010\n",
            "Epoch 12/200\n",
            "6/6 [==============================] - 0s 2ms/step - loss: 28.9871 - lr: 0.0010\n",
            "Epoch 13/200\n",
            "6/6 [==============================] - 0s 3ms/step - loss: 18.4923 - lr: 0.0010\n",
            "Epoch 14/200\n",
            "6/6 [==============================] - 0s 3ms/step - loss: 17.8267 - lr: 0.0010\n",
            "Epoch 15/200\n",
            "6/6 [==============================] - 0s 2ms/step - loss: 10.7832 - lr: 0.0010\n",
            "Epoch 16/200\n",
            "6/6 [==============================] - 0s 3ms/step - loss: 6.2674 - lr: 0.0010\n",
            "Epoch 17/200\n",
            "6/6 [==============================] - 0s 2ms/step - loss: 5.3246 - lr: 0.0010\n",
            "Epoch 18/200\n",
            "6/6 [==============================] - 0s 2ms/step - loss: 3.5653 - lr: 0.0010\n",
            "Epoch 19/200\n",
            "6/6 [==============================] - 0s 3ms/step - loss: 3.1481 - lr: 0.0010\n",
            "Epoch 20/200\n",
            "6/6 [==============================] - 0s 3ms/step - loss: 2.6204 - lr: 0.0010\n",
            "Epoch 21/200\n",
            "6/6 [==============================] - 0s 2ms/step - loss: 2.0017 - lr: 0.0010\n",
            "Epoch 22/200\n",
            "6/6 [==============================] - 0s 3ms/step - loss: 1.7139 - lr: 0.0010\n",
            "Epoch 23/200\n",
            "6/6 [==============================] - 0s 2ms/step - loss: 1.4638 - lr: 0.0010\n",
            "Epoch 24/200\n",
            "6/6 [==============================] - 0s 3ms/step - loss: 1.3128 - lr: 0.0010\n",
            "Epoch 25/200\n",
            "6/6 [==============================] - 0s 3ms/step - loss: 1.1495 - lr: 0.0010\n",
            "Epoch 26/200\n",
            "6/6 [==============================] - 0s 3ms/step - loss: 1.0706 - lr: 0.0010\n",
            "Epoch 27/200\n",
            "6/6 [==============================] - 0s 3ms/step - loss: 1.0564 - lr: 0.0010\n",
            "Epoch 28/200\n",
            "6/6 [==============================] - 0s 2ms/step - loss: 1.1946 - lr: 0.0010\n",
            "Epoch 29/200\n",
            "6/6 [==============================] - 0s 3ms/step - loss: 0.9621 - lr: 0.0010\n",
            "Epoch 30/200\n",
            "6/6 [==============================] - 0s 3ms/step - loss: 0.9625 - lr: 0.0010\n",
            "Epoch 31/200\n",
            "6/6 [==============================] - 0s 3ms/step - loss: 1.0696 - lr: 0.0010\n",
            "Epoch 32/200\n",
            "6/6 [==============================] - 0s 3ms/step - loss: 1.1369 - lr: 0.0010\n",
            "Epoch 33/200\n",
            "6/6 [==============================] - 0s 3ms/step - loss: 0.9877 - lr: 0.0010\n",
            "Epoch 34/200\n",
            "6/6 [==============================] - 0s 3ms/step - loss: 0.9385 - lr: 0.0010\n",
            "Epoch 35/200\n",
            "6/6 [==============================] - 0s 4ms/step - loss: 0.9049 - lr: 0.0010\n",
            "Epoch 36/200\n",
            "6/6 [==============================] - 0s 3ms/step - loss: 1.3432 - lr: 0.0010\n",
            "Epoch 37/200\n",
            "6/6 [==============================] - 0s 4ms/step - loss: 1.2063 - lr: 0.0010\n",
            "Epoch 38/200\n",
            "6/6 [==============================] - 0s 4ms/step - loss: 1.0850 - lr: 0.0010\n",
            "Epoch 39/200\n",
            "6/6 [==============================] - 0s 3ms/step - loss: 1.3991 - lr: 0.0010\n",
            "Epoch 40/200\n",
            "6/6 [==============================] - 0s 4ms/step - loss: 1.1896 - lr: 0.0010\n",
            "Epoch 41/200\n",
            "6/6 [==============================] - 0s 4ms/step - loss: 1.3122 - lr: 0.0010\n",
            "Epoch 42/200\n",
            "6/6 [==============================] - 0s 3ms/step - loss: 1.1715 - lr: 0.0010\n",
            "Epoch 43/200\n",
            "6/6 [==============================] - 0s 3ms/step - loss: 1.0339 - lr: 0.0010\n",
            "Epoch 44/200\n",
            "6/6 [==============================] - 0s 3ms/step - loss: 1.2828 - lr: 0.0010\n",
            "Epoch 45/200\n",
            "6/6 [==============================] - 0s 3ms/step - loss: 1.1569 - lr: 0.0010\n",
            "Epoch 46/200\n",
            "6/6 [==============================] - 0s 3ms/step - loss: 1.0869 - lr: 0.0010\n",
            "Epoch 47/200\n",
            "6/6 [==============================] - 0s 3ms/step - loss: 0.9671 - lr: 0.0010\n",
            "Epoch 48/200\n",
            "6/6 [==============================] - 0s 3ms/step - loss: 0.9751 - lr: 0.0010\n",
            "Epoch 49/200\n",
            "6/6 [==============================] - 0s 3ms/step - loss: 1.0462 - lr: 0.0010\n",
            "Epoch 50/200\n",
            "6/6 [==============================] - 0s 3ms/step - loss: 1.2399 - lr: 0.0010\n",
            "Epoch 51/200\n",
            "6/6 [==============================] - 0s 3ms/step - loss: 2.6409 - lr: 1.0000e-04\n",
            "Epoch 52/200\n",
            "6/6 [==============================] - 0s 3ms/step - loss: 2.5993 - lr: 1.0000e-04\n",
            "Epoch 53/200\n",
            "6/6 [==============================] - 0s 3ms/step - loss: 0.9467 - lr: 1.0000e-04\n",
            "Epoch 54/200\n",
            "6/6 [==============================] - 0s 3ms/step - loss: 1.3257 - lr: 1.0000e-04\n",
            "Epoch 55/200\n",
            "6/6 [==============================] - 0s 3ms/step - loss: 0.9886 - lr: 1.0000e-04\n",
            "Epoch 56/200\n",
            "6/6 [==============================] - 0s 3ms/step - loss: 0.9356 - lr: 1.0000e-04\n",
            "Epoch 57/200\n",
            "6/6 [==============================] - 0s 3ms/step - loss: 0.9648 - lr: 1.0000e-04\n",
            "Epoch 58/200\n",
            "6/6 [==============================] - 0s 3ms/step - loss: 0.8701 - lr: 1.0000e-04\n",
            "Epoch 59/200\n",
            "6/6 [==============================] - 0s 3ms/step - loss: 0.8880 - lr: 1.0000e-04\n",
            "Epoch 60/200\n",
            "6/6 [==============================] - 0s 2ms/step - loss: 0.8839 - lr: 1.0000e-04\n",
            "Epoch 61/200\n",
            "6/6 [==============================] - 0s 3ms/step - loss: 0.8712 - lr: 1.0000e-04\n",
            "Epoch 62/200\n",
            "6/6 [==============================] - 0s 3ms/step - loss: 0.8743 - lr: 1.0000e-04\n",
            "Epoch 63/200\n",
            "6/6 [==============================] - 0s 4ms/step - loss: 0.8743 - lr: 1.0000e-04\n",
            "Epoch 64/200\n",
            "6/6 [==============================] - 0s 3ms/step - loss: 0.8708 - lr: 1.0000e-04\n",
            "Epoch 65/200\n",
            "6/6 [==============================] - 0s 3ms/step - loss: 0.8756 - lr: 1.0000e-04\n",
            "Epoch 66/200\n",
            "6/6 [==============================] - 0s 4ms/step - loss: 0.8863 - lr: 1.0000e-04\n",
            "Epoch 67/200\n",
            "6/6 [==============================] - 0s 4ms/step - loss: 0.8927 - lr: 1.0000e-04\n",
            "Epoch 68/200\n",
            "6/6 [==============================] - 0s 4ms/step - loss: 0.8802 - lr: 1.0000e-04\n",
            "Epoch 69/200\n",
            "6/6 [==============================] - 0s 3ms/step - loss: 0.8750 - lr: 1.0000e-04\n",
            "Epoch 70/200\n",
            "6/6 [==============================] - 0s 3ms/step - loss: 0.8784 - lr: 1.0000e-04\n",
            "Epoch 71/200\n",
            "6/6 [==============================] - 0s 3ms/step - loss: 0.8724 - lr: 1.0000e-04\n",
            "Epoch 72/200\n",
            "6/6 [==============================] - 0s 3ms/step - loss: 0.9112 - lr: 1.0000e-04\n",
            "Epoch 73/200\n",
            "6/6 [==============================] - 0s 3ms/step - loss: 0.8907 - lr: 1.0000e-04\n",
            "Epoch 74/200\n",
            "6/6 [==============================] - 0s 3ms/step - loss: 0.8707 - lr: 1.0000e-04\n",
            "Epoch 75/200\n",
            "6/6 [==============================] - 0s 3ms/step - loss: 0.8710 - lr: 1.0000e-04\n",
            "Epoch 76/200\n",
            "6/6 [==============================] - 0s 3ms/step - loss: 0.8873 - lr: 1.0000e-04\n",
            "Epoch 77/200\n",
            "6/6 [==============================] - 0s 3ms/step - loss: 0.8733 - lr: 1.0000e-04\n",
            "Epoch 78/200\n",
            "6/6 [==============================] - 0s 3ms/step - loss: 0.8778 - lr: 1.0000e-04\n",
            "Epoch 79/200\n",
            "6/6 [==============================] - 0s 4ms/step - loss: 0.8826 - lr: 1.0000e-04\n",
            "Epoch 80/200\n",
            "6/6 [==============================] - 0s 3ms/step - loss: 0.8840 - lr: 1.0000e-04\n",
            "Epoch 81/200\n",
            "6/6 [==============================] - 0s 4ms/step - loss: 0.8898 - lr: 1.0000e-04\n",
            "Epoch 82/200\n",
            "6/6 [==============================] - 0s 3ms/step - loss: 0.8820 - lr: 1.0000e-04\n",
            "Epoch 83/200\n",
            "6/6 [==============================] - 0s 3ms/step - loss: 0.8710 - lr: 1.0000e-04\n",
            "Epoch 84/200\n",
            "6/6 [==============================] - 0s 3ms/step - loss: 0.8768 - lr: 1.0000e-04\n",
            "Epoch 85/200\n",
            "6/6 [==============================] - 0s 3ms/step - loss: 0.9032 - lr: 1.0000e-04\n",
            "Epoch 86/200\n",
            "6/6 [==============================] - 0s 3ms/step - loss: 0.8894 - lr: 1.0000e-04\n",
            "Epoch 87/200\n",
            "6/6 [==============================] - 0s 3ms/step - loss: 0.8703 - lr: 1.0000e-04\n",
            "Epoch 88/200\n",
            "6/6 [==============================] - 0s 3ms/step - loss: 0.8760 - lr: 1.0000e-04\n",
            "Epoch 89/200\n",
            "6/6 [==============================] - 0s 3ms/step - loss: 0.8717 - lr: 1.0000e-04\n",
            "Epoch 90/200\n",
            "6/6 [==============================] - 0s 3ms/step - loss: 0.8754 - lr: 1.0000e-04\n",
            "Epoch 91/200\n",
            "6/6 [==============================] - 0s 3ms/step - loss: 0.8742 - lr: 1.0000e-04\n",
            "Epoch 92/200\n",
            "6/6 [==============================] - 0s 3ms/step - loss: 0.8706 - lr: 1.0000e-04\n",
            "Epoch 93/200\n",
            "6/6 [==============================] - 0s 4ms/step - loss: 0.8742 - lr: 1.0000e-04\n",
            "Epoch 94/200\n",
            "6/6 [==============================] - 0s 3ms/step - loss: 0.8786 - lr: 1.0000e-04\n",
            "Epoch 95/200\n",
            "6/6 [==============================] - 0s 3ms/step - loss: 0.8733 - lr: 1.0000e-04\n",
            "Epoch 96/200\n",
            "6/6 [==============================] - 0s 3ms/step - loss: 0.8738 - lr: 1.0000e-04\n",
            "Epoch 97/200\n",
            "6/6 [==============================] - 0s 3ms/step - loss: 0.8724 - lr: 1.0000e-04\n",
            "Epoch 98/200\n",
            "6/6 [==============================] - 0s 3ms/step - loss: 0.8730 - lr: 1.0000e-04\n",
            "Epoch 99/200\n",
            "6/6 [==============================] - 0s 3ms/step - loss: 0.8721 - lr: 1.0000e-04\n",
            "Epoch 100/200\n",
            "6/6 [==============================] - 0s 3ms/step - loss: 0.8867 - lr: 1.0000e-04\n",
            "Epoch 101/200\n",
            "6/6 [==============================] - 0s 3ms/step - loss: 0.9031 - lr: 1.0000e-04\n",
            "Epoch 102/200\n",
            "6/6 [==============================] - 0s 3ms/step - loss: 0.8954 - lr: 1.0000e-04\n",
            "Epoch 103/200\n",
            "6/6 [==============================] - 0s 3ms/step - loss: 0.8739 - lr: 1.0000e-04\n",
            "Epoch 104/200\n",
            "6/6 [==============================] - 0s 3ms/step - loss: 0.8718 - lr: 1.0000e-04\n",
            "Epoch 105/200\n",
            "6/6 [==============================] - 0s 3ms/step - loss: 0.8710 - lr: 1.0000e-04\n",
            "Epoch 106/200\n",
            "6/6 [==============================] - 0s 3ms/step - loss: 0.8753 - lr: 1.0000e-04\n",
            "Epoch 107/200\n",
            "6/6 [==============================] - 0s 2ms/step - loss: 0.8733 - lr: 1.0000e-04\n",
            "Epoch 108/200\n",
            "6/6 [==============================] - 0s 3ms/step - loss: 0.8865 - lr: 1.0000e-04\n",
            "Epoch 109/200\n",
            "6/6 [==============================] - 0s 5ms/step - loss: 0.9219 - lr: 1.0000e-04\n",
            "Epoch 110/200\n",
            "6/6 [==============================] - 0s 3ms/step - loss: 0.8903 - lr: 1.0000e-04\n",
            "Epoch 111/200\n",
            "6/6 [==============================] - 0s 3ms/step - loss: 0.8668 - lr: 1.0000e-04\n",
            "Epoch 112/200\n",
            "6/6 [==============================] - 0s 3ms/step - loss: 0.8893 - lr: 1.0000e-04\n",
            "Epoch 113/200\n",
            "6/6 [==============================] - 0s 3ms/step - loss: 0.8767 - lr: 1.0000e-04\n",
            "Epoch 114/200\n",
            "6/6 [==============================] - 0s 3ms/step - loss: 0.8688 - lr: 1.0000e-04\n",
            "Epoch 115/200\n",
            "6/6 [==============================] - 0s 3ms/step - loss: 0.8860 - lr: 1.0000e-04\n",
            "Epoch 116/200\n",
            "6/6 [==============================] - 0s 2ms/step - loss: 0.8868 - lr: 1.0000e-04\n",
            "Epoch 117/200\n",
            "6/6 [==============================] - 0s 3ms/step - loss: 0.8780 - lr: 1.0000e-04\n",
            "Epoch 118/200\n",
            "6/6 [==============================] - 0s 3ms/step - loss: 0.8703 - lr: 1.0000e-04\n",
            "Epoch 119/200\n",
            "6/6 [==============================] - 0s 3ms/step - loss: 0.8855 - lr: 1.0000e-04\n",
            "Epoch 120/200\n",
            "6/6 [==============================] - 0s 3ms/step - loss: 0.8826 - lr: 1.0000e-04\n",
            "Epoch 121/200\n",
            "6/6 [==============================] - 0s 3ms/step - loss: 0.8717 - lr: 1.0000e-04\n",
            "Epoch 122/200\n",
            "6/6 [==============================] - 0s 3ms/step - loss: 0.8708 - lr: 1.0000e-04\n",
            "Epoch 123/200\n",
            "6/6 [==============================] - 0s 3ms/step - loss: 0.8908 - lr: 1.0000e-04\n",
            "Epoch 124/200\n",
            "6/6 [==============================] - 0s 4ms/step - loss: 0.8866 - lr: 1.0000e-04\n",
            "Epoch 125/200\n",
            "6/6 [==============================] - 0s 3ms/step - loss: 0.8907 - lr: 1.0000e-04\n",
            "Epoch 126/200\n",
            "6/6 [==============================] - 0s 4ms/step - loss: 0.9140 - lr: 1.0000e-04\n",
            "Epoch 127/200\n",
            "6/6 [==============================] - 0s 4ms/step - loss: 0.8820 - lr: 1.0000e-04\n",
            "Epoch 128/200\n",
            "6/6 [==============================] - 0s 4ms/step - loss: 0.8831 - lr: 1.0000e-04\n",
            "Epoch 129/200\n",
            "6/6 [==============================] - 0s 3ms/step - loss: 0.8750 - lr: 1.0000e-04\n",
            "Epoch 130/200\n",
            "6/6 [==============================] - 0s 3ms/step - loss: 0.8943 - lr: 1.0000e-04\n",
            "Epoch 131/200\n",
            "6/6 [==============================] - 0s 3ms/step - loss: 0.9021 - lr: 1.0000e-04\n",
            "Epoch 132/200\n",
            "6/6 [==============================] - 0s 3ms/step - loss: 0.8780 - lr: 1.0000e-04\n",
            "Epoch 133/200\n",
            "6/6 [==============================] - 0s 3ms/step - loss: 0.8795 - lr: 1.0000e-04\n",
            "Epoch 134/200\n",
            "6/6 [==============================] - 0s 3ms/step - loss: 0.8976 - lr: 1.0000e-04\n",
            "Epoch 135/200\n",
            "6/6 [==============================] - 0s 3ms/step - loss: 0.8839 - lr: 1.0000e-04\n",
            "Epoch 136/200\n",
            "6/6 [==============================] - 0s 3ms/step - loss: 0.9233 - lr: 1.0000e-04\n",
            "Epoch 137/200\n",
            "6/6 [==============================] - 0s 3ms/step - loss: 0.9076 - lr: 1.0000e-04\n",
            "Epoch 138/200\n",
            "6/6 [==============================] - 0s 3ms/step - loss: 0.8699 - lr: 1.0000e-04\n",
            "Epoch 139/200\n",
            "6/6 [==============================] - 0s 3ms/step - loss: 0.8921 - lr: 1.0000e-04\n",
            "Epoch 140/200\n",
            "6/6 [==============================] - 0s 3ms/step - loss: 0.8781 - lr: 1.0000e-04\n",
            "Epoch 141/200\n",
            "6/6 [==============================] - 0s 3ms/step - loss: 0.8717 - lr: 1.0000e-04\n",
            "Epoch 142/200\n",
            "6/6 [==============================] - 0s 3ms/step - loss: 0.8755 - lr: 1.0000e-04\n",
            "Epoch 143/200\n",
            "6/6 [==============================] - 0s 3ms/step - loss: 0.8696 - lr: 1.0000e-04\n",
            "Epoch 144/200\n",
            "6/6 [==============================] - 0s 4ms/step - loss: 0.8744 - lr: 1.0000e-04\n",
            "Epoch 145/200\n",
            "6/6 [==============================] - 0s 4ms/step - loss: 0.8717 - lr: 1.0000e-04\n",
            "Epoch 146/200\n",
            "6/6 [==============================] - 0s 4ms/step - loss: 0.8716 - lr: 1.0000e-04\n",
            "Epoch 147/200\n",
            "6/6 [==============================] - 0s 3ms/step - loss: 0.8698 - lr: 1.0000e-04\n",
            "Epoch 148/200\n",
            "6/6 [==============================] - 0s 3ms/step - loss: 0.8724 - lr: 1.0000e-04\n",
            "Epoch 149/200\n",
            "6/6 [==============================] - 0s 3ms/step - loss: 0.8755 - lr: 1.0000e-04\n",
            "Epoch 150/200\n",
            "6/6 [==============================] - 0s 3ms/step - loss: 0.8752 - lr: 1.0000e-04\n",
            "Epoch 151/200\n",
            "6/6 [==============================] - 0s 4ms/step - loss: 0.8815 - lr: 1.0000e-04\n",
            "Epoch 152/200\n",
            "6/6 [==============================] - 0s 5ms/step - loss: 0.8772 - lr: 1.0000e-04\n",
            "Epoch 153/200\n",
            "6/6 [==============================] - 0s 3ms/step - loss: 0.8756 - lr: 1.0000e-04\n",
            "Epoch 154/200\n",
            "6/6 [==============================] - 0s 3ms/step - loss: 0.8675 - lr: 1.0000e-04\n",
            "Epoch 155/200\n",
            "6/6 [==============================] - 0s 3ms/step - loss: 0.8770 - lr: 1.0000e-04\n",
            "Epoch 156/200\n",
            "6/6 [==============================] - 0s 4ms/step - loss: 0.8705 - lr: 1.0000e-04\n",
            "Epoch 157/200\n",
            "6/6 [==============================] - 0s 4ms/step - loss: 0.8890 - lr: 1.0000e-04\n",
            "Epoch 158/200\n",
            "6/6 [==============================] - 0s 3ms/step - loss: 0.8952 - lr: 1.0000e-04\n",
            "Epoch 159/200\n",
            "6/6 [==============================] - 0s 3ms/step - loss: 0.8785 - lr: 1.0000e-04\n",
            "Epoch 160/200\n",
            "6/6 [==============================] - 0s 3ms/step - loss: 0.8764 - lr: 1.0000e-04\n",
            "Epoch 161/200\n",
            "6/6 [==============================] - 0s 3ms/step - loss: 0.8777 - lr: 1.0000e-04\n",
            "Epoch 162/200\n",
            "6/6 [==============================] - 0s 4ms/step - loss: 0.8682 - lr: 1.0000e-04\n",
            "Epoch 163/200\n",
            "6/6 [==============================] - 0s 4ms/step - loss: 0.8670 - lr: 1.0000e-04\n",
            "Epoch 164/200\n",
            "6/6 [==============================] - 0s 4ms/step - loss: 0.8741 - lr: 1.0000e-04\n",
            "Epoch 165/200\n",
            "6/6 [==============================] - 0s 3ms/step - loss: 0.8849 - lr: 1.0000e-04\n",
            "Epoch 166/200\n",
            "6/6 [==============================] - 0s 3ms/step - loss: 0.8811 - lr: 1.0000e-04\n",
            "Epoch 167/200\n",
            "6/6 [==============================] - 0s 3ms/step - loss: 0.8697 - lr: 1.0000e-04\n",
            "Epoch 168/200\n",
            "6/6 [==============================] - 0s 3ms/step - loss: 0.8874 - lr: 1.0000e-04\n",
            "Epoch 169/200\n",
            "6/6 [==============================] - 0s 3ms/step - loss: 0.8869 - lr: 1.0000e-04\n",
            "Epoch 170/200\n",
            "6/6 [==============================] - 0s 3ms/step - loss: 0.8728 - lr: 1.0000e-04\n",
            "Epoch 171/200\n",
            "6/6 [==============================] - 0s 3ms/step - loss: 0.8756 - lr: 1.0000e-04\n",
            "Epoch 172/200\n",
            "6/6 [==============================] - 0s 3ms/step - loss: 0.8712 - lr: 1.0000e-04\n",
            "Epoch 173/200\n",
            "6/6 [==============================] - 0s 3ms/step - loss: 0.8706 - lr: 1.0000e-04\n",
            "Epoch 174/200\n",
            "6/6 [==============================] - 0s 3ms/step - loss: 0.8784 - lr: 1.0000e-04\n",
            "Epoch 175/200\n",
            "6/6 [==============================] - 0s 3ms/step - loss: 0.8749 - lr: 1.0000e-04\n",
            "Epoch 176/200\n",
            "6/6 [==============================] - 0s 3ms/step - loss: 0.8708 - lr: 1.0000e-04\n",
            "Epoch 177/200\n",
            "6/6 [==============================] - 0s 3ms/step - loss: 0.8709 - lr: 1.0000e-04\n",
            "Epoch 178/200\n",
            "6/6 [==============================] - 0s 3ms/step - loss: 0.8732 - lr: 1.0000e-04\n",
            "Epoch 179/200\n",
            "6/6 [==============================] - 0s 3ms/step - loss: 0.8727 - lr: 1.0000e-04\n",
            "Epoch 180/200\n",
            "6/6 [==============================] - 0s 3ms/step - loss: 0.8763 - lr: 1.0000e-04\n",
            "Epoch 181/200\n",
            "6/6 [==============================] - 0s 3ms/step - loss: 0.8751 - lr: 1.0000e-04\n",
            "Epoch 182/200\n",
            "6/6 [==============================] - 0s 3ms/step - loss: 0.8689 - lr: 1.0000e-04\n",
            "Epoch 183/200\n",
            "6/6 [==============================] - 0s 3ms/step - loss: 0.8866 - lr: 1.0000e-04\n",
            "Epoch 184/200\n",
            "6/6 [==============================] - 0s 4ms/step - loss: 0.8743 - lr: 1.0000e-04\n",
            "Epoch 185/200\n",
            "6/6 [==============================] - 0s 4ms/step - loss: 0.8786 - lr: 1.0000e-04\n",
            "Epoch 186/200\n",
            "6/6 [==============================] - 0s 4ms/step - loss: 0.8808 - lr: 1.0000e-04\n",
            "Epoch 187/200\n",
            "6/6 [==============================] - 0s 2ms/step - loss: 0.8705 - lr: 1.0000e-04\n",
            "Epoch 188/200\n",
            "6/6 [==============================] - 0s 3ms/step - loss: 0.8714 - lr: 1.0000e-04\n",
            "Epoch 189/200\n",
            "6/6 [==============================] - 0s 3ms/step - loss: 0.8947 - lr: 1.0000e-04\n",
            "Epoch 190/200\n",
            "6/6 [==============================] - 0s 4ms/step - loss: 0.8752 - lr: 1.0000e-04\n",
            "Epoch 191/200\n",
            "6/6 [==============================] - 0s 3ms/step - loss: 0.8910 - lr: 1.0000e-04\n",
            "Epoch 192/200\n",
            "6/6 [==============================] - 0s 3ms/step - loss: 0.8803 - lr: 1.0000e-04\n",
            "Epoch 193/200\n",
            "6/6 [==============================] - 0s 3ms/step - loss: 0.8716 - lr: 1.0000e-04\n",
            "Epoch 194/200\n",
            "6/6 [==============================] - 0s 4ms/step - loss: 0.8725 - lr: 1.0000e-04\n",
            "Epoch 195/200\n",
            "6/6 [==============================] - 0s 3ms/step - loss: 0.8837 - lr: 1.0000e-04\n",
            "Epoch 196/200\n",
            "6/6 [==============================] - 0s 3ms/step - loss: 0.8735 - lr: 1.0000e-04\n",
            "Epoch 197/200\n",
            "6/6 [==============================] - 0s 4ms/step - loss: 0.8741 - lr: 1.0000e-04\n",
            "Epoch 198/200\n",
            "6/6 [==============================] - 0s 4ms/step - loss: 0.8840 - lr: 1.0000e-04\n",
            "Epoch 199/200\n",
            "6/6 [==============================] - 0s 3ms/step - loss: 0.8751 - lr: 1.0000e-04\n",
            "Epoch 200/200\n",
            "6/6 [==============================] - 0s 3ms/step - loss: 0.8822 - lr: 1.0000e-04\n"
          ]
        }
      ]
    },
    {
      "cell_type": "code",
      "source": [
        "#plot the loss\n",
        "plt.plot(r.history['loss'], label ='loss')\n",
        "plt.legend();"
      ],
      "metadata": {
        "colab": {
          "base_uri": "https://localhost:8080/",
          "height": 265
        },
        "id": "HXll4QNsknxR",
        "outputId": "563f5333-7147-4256-f5b5-4286819bfb18"
      },
      "execution_count": 21,
      "outputs": [
        {
          "output_type": "display_data",
          "data": {
            "text/plain": [
              "<Figure size 432x288 with 1 Axes>"
            ],
            "image/png": "[encoded data removed]"
          },
          "metadata": {
            "needs_background": "light"
          }
        }
      ]
    },
    {
      "cell_type": "markdown",
      "source": [
        "In the context of training a model using a deep learning framework such as TensorFlow or PyTorch, callbacks=[scheduler] means that a learning rate scheduler is being used as a callback during training. A learning rate scheduler is a function that adjusts the learning rate during training, often based on some pre-defined schedule. For example, the learning rate might be reduced after a certain number of epochs or when the validation loss stops improving.\n",
        "\n",
        "By using a learning rate scheduler as a callback, the learning rate can be automatically adjusted during training to improve the performance of the model."
      ],
      "metadata": {
        "id": "rM0lqLl8kQaP"
      }
    },
    {
      "cell_type": "code",
      "source": [
        "model.layers"
      ],
      "metadata": {
        "colab": {
          "base_uri": "https://localhost:8080/"
        },
        "id": "Ww6avKMFkRsm",
        "outputId": "b9bc8bf3-e257-48d6-94ef-f49ca2b4d4e1"
      },
      "execution_count": 22,
      "outputs": [
        {
          "output_type": "execute_result",
          "data": {
            "text/plain": [
              "[<keras.layers.core.dense.Dense at 0x7f88f2baf490>]"
            ]
          },
          "metadata": {},
          "execution_count": 22
        }
      ]
    }
  ]
}